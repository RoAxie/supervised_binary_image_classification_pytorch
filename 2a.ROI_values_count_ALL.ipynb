{
 "cells": [
  {
   "cell_type": "markdown",
   "id": "1891865b-fc8f-4849-8d90-94126436de71",
   "metadata": {},
   "source": [
    "### Create a DataFrame and a CSV file with number of values per ROI  \n",
    "A Region of interest (ROI) refers to an area on a plane that is expected to contain the projection of a particle track. ROIs can vary in size, ranging from very small to nearly as large as the entire wire plane. While the original files include all hit wires on the plane, the normalized files contain only the values recorded within the ROI. The ROI boundaries were provided by the data owner."
   ]
  },
  {
   "cell_type": "code",
   "execution_count": 3,
   "id": "6b8fba63-b7d0-4b18-9eba-43b0ee0271e1",
   "metadata": {},
   "outputs": [],
   "source": [
    "import os\n",
    "import pandas as pd\n",
    "import csv\n",
    "import tqdm\n",
    "import seaborn as sns\n",
    "import matplotlib.pyplot as plt"
   ]
  },
  {
   "cell_type": "code",
   "execution_count": 4,
   "id": "1555317b-09a2-41cc-a15f-e85147af20bd",
   "metadata": {},
   "outputs": [],
   "source": [
    "norm_dir = 'path/to/norm_files'\n",
    "class_0_dirs = [f\"{norm_dir}/{plane}/ATMO\" for plane in range(3)]\n",
    "class_1_dirs = [f\"{norm_dir}/{plane}/PDK\" for plane in range(3)]\n",
    "\n",
    "class_dirs = [class_0_dirs, class_1_dirs]"
   ]
  },
  {
   "cell_type": "code",
   "execution_count": null,
   "id": "935739b2-cd74-4957-b3d2-091eedf1d0be",
   "metadata": {
    "scrolled": true
   },
   "outputs": [],
   "source": [
    "# Event information contained in the filename\n",
    "filename = []\n",
    "atmo_pdk = []\n",
    "mc_sim = []\n",
    "plane = []\n",
    "event = []\n",
    "\n",
    "count_ROI_values = []\n",
    "\n",
    "for class_dir in class_dirs:\n",
    "    for i in tqdm.tqdm(range(3)):\n",
    "        for dir, subdirs, files in os.walk(class_dir[i]):\n",
    "            if dir == class_dir[i]:\n",
    "                for file in files:\n",
    "                    file_path = os.path.join(class_dir[i], file)\n",
    "                    base = os.path.splitext(file)[0]\n",
    "                    base_sp = base.replace('.extracted', '')\n",
    "                    base_sp = base_sp.strip().split('_')\n",
    "\n",
    "                    with open(file_path, \"r\") as f:\n",
    "                        line_count = sum(1 for line in f)\n",
    "\n",
    "                    filename.append(base)\n",
    "                    atmo_pdk.append(base_sp[1])\n",
    "                    mc_sim.append(int(base_sp[2]))\n",
    "                    plane.append(int(base_sp[-2][-1]))\n",
    "                    event.append(int(base_sp[-1]))\n",
    "                    count_ROI_values.append(line_count)"
   ]
  },
  {
   "cell_type": "code",
   "execution_count": 14,
   "id": "dd70e1f1-7d42-424b-b505-9c33947653ba",
   "metadata": {},
   "outputs": [],
   "source": [
    "dict_values_in_ROI = {\n",
    "    'filename' : filename,\n",
    "    'atmonu_or_pdk' : atmo_pdk,\n",
    "    'MC_sim' : mc_sim,\n",
    "    'plane' : plane,\n",
    "    'event' : event,\n",
    "    'ROI_values_count' : count_ROI_values \n",
    "}\n",
    "\n",
    "print('Created a dictionary that stores the count of values (time-hit wire pairs) for each file.')"
   ]
  },
  {
   "cell_type": "code",
   "execution_count": 15,
   "id": "4cfacacc-7a24-4a9a-8a1d-1a4fd466a237",
   "metadata": {},
   "outputs": [],
   "source": [
    "df_values_in_ROI = pd.DataFrame(dict_values_in_ROI)\n",
    "print ('DataFrame created from the dictionary')"
   ]
  },
  {
   "cell_type": "code",
   "execution_count": null,
   "id": "f4d6ca5d-a05e-4bdf-bf52-22f5961f6ee9",
   "metadata": {},
   "outputs": [],
   "source": [
    "# The distribution of the number of values across all files\n",
    "plt.figure(figsize=(10, 6))\n",
    "sns.histplot(df_values_in_ROI['ROI_values_count'], kde=True, bins=50, color='blue', edgecolor='black')\n",
    "plt.title('Number of values in ROI - Distribution')\n",
    "plt.xlabel('Number of values per file')\n",
    "plt.ylabel('Frequency')\n",
    "plt.show()"
   ]
  },
  {
   "cell_type": "code",
   "execution_count": null,
   "id": "7721941b",
   "metadata": {},
   "outputs": [],
   "source": [
    "# The distribution of the number of values across files with fewer than 500 values."
   ]
  },
  {
   "cell_type": "code",
   "execution_count": 19,
   "id": "062a8b30-50e2-4485-873b-3aa3dba38fe5",
   "metadata": {},
   "outputs": [],
   "source": [
    "mask = df_values_in_ROI['ROI_values_count'] < 500"
   ]
  },
  {
   "cell_type": "code",
   "execution_count": null,
   "id": "f0ad1e10-84e0-4095-9215-ccc1fb994f30",
   "metadata": {},
   "outputs": [],
   "source": [
    "plt.figure(figsize=(10, 6))\n",
    "sns.histplot(df_values_in_ROI[mask]['ROI_values_count'], bins=50, color='orange', edgecolor='black')\n",
    "plt.title('Number of values in ROI (< 500) - Distribution')\n",
    "plt.xlabel('Number of values per file')\n",
    "plt.ylabel('Frequency')\n",
    "plt.show()"
   ]
  },
  {
   "cell_type": "code",
   "execution_count": 24,
   "id": "4d699618-1322-4f13-99b3-fbe706ffd90d",
   "metadata": {},
   "outputs": [],
   "source": [
    "df_values_in_ROI.to_csv('ROI_values_count_ALL.csv', index=False)\n",
    "print(\"DataFrame successfully saved as 'ROI_values_count_ALL.csv'\")"
   ]
  }
 ],
 "metadata": {
  "kernelspec": {
   "display_name": "Python 3 (ipykernel)",
   "language": "python",
   "name": "python3"
  },
  "language_info": {
   "codemirror_mode": {
    "name": "ipython",
    "version": 3
   },
   "file_extension": ".py",
   "mimetype": "text/x-python",
   "name": "python",
   "nbconvert_exporter": "python",
   "pygments_lexer": "ipython3",
   "version": "3.11.9"
  }
 },
 "nbformat": 4,
 "nbformat_minor": 5
}
