{
 "cells": [
  {
   "cell_type": "code",
   "execution_count": 1,
   "id": "e2c412e9-7c8d-42a0-ab7d-33a49cab5d27",
   "metadata": {},
   "outputs": [],
   "source": [
    "import pandas as pd\n",
    "import matplotlib.pyplot as plt"
   ]
  },
  {
   "cell_type": "markdown",
   "id": "754e1e5a-cf97-4c11-8533-761cdfa1921a",
   "metadata": {},
   "source": [
    "## Plotting loss and accuracy"
   ]
  },
  {
   "cell_type": "code",
   "execution_count": 8,
   "id": "e9e74861-284c-4f53-8e92-71154cdf8503",
   "metadata": {},
   "outputs": [],
   "source": [
    "# Define a function to plot metrics (loss or accuracy) on the provided axis\n",
    "def plot_metrics(ax, metric, plane=None):\n",
    "    for set_type in ['train', 'valid']:\n",
    "        if plane is not None:\n",
    "            subset = df[(df['plane'] == plane) & (df['set'] == set_type)]\n",
    "        else:\n",
    "            subset = df[df['set'] == set_type]\n",
    "\n",
    "        # Plot the metric (e.g., loss or accuracy) against the epoch for the current set\n",
    "        ax.plot(subset['epoch'], subset[metric], marker='o', label=f'{set_type} set')\n",
    "\n",
    "        \n",
    "    x_ticks = df['epoch'].unique()  # Get unique epochs\n",
    "    ax.set_xticks(x_ticks)  # Set the ticks to match epochs\n",
    "    ax.set_xlim([x_ticks.min()-0.1, x_ticks.max()+0.1]) \n",
    "    ax.set_xlabel('Epoch')\n",
    "    ax.set_ylabel(metric.capitalize())\n",
    "    \n",
    "    if plane is not None: # Late Fusion\n",
    "        title = f'Plane {plane} - {metric.capitalize()}'\n",
    "    else:\n",
    "        title = f'{metric.capitalize()}'\n",
    "    ax.set_title(title, loc='center', va='top', pad=20)\n",
    "    \n",
    "    ax.legend()\n",
    "    ax.grid(True)"
   ]
  },
  {
   "cell_type": "markdown",
   "id": "04a1afe3-37cb-46ec-9a16-b849515b0aba",
   "metadata": {},
   "source": [
    "### Early Fusion"
   ]
  },
  {
   "cell_type": "markdown",
   "id": "242ae382-b66a-4c57-a62f-436a60f0675d",
   "metadata": {},
   "source": [
    "#### AlexNet"
   ]
  },
  {
   "cell_type": "code",
   "execution_count": 14,
   "id": "a8f3273b-09a6-465f-a58b-b85b9e38a889",
   "metadata": {},
   "outputs": [],
   "source": [
    "# filename is a csv file that stores loss and accuracy values for each epoch, divided into two groups (train, valid).\n",
    "df = pd.read_csv('filename.csv')\n",
    "# df"
   ]
  },
  {
   "cell_type": "code",
   "execution_count": null,
   "id": "a9dd2648-4e50-454c-877e-0c6085880111",
   "metadata": {},
   "outputs": [],
   "source": [
    "fig, axs = plt.subplots(1, 2, figsize=(14, 6))\n",
    "\n",
    "# Plot loss on the first axis and accuracy on the second axis\n",
    "plot_metrics(axs[0], 'loss') \n",
    "plot_metrics(axs[1], 'accuracy') \n",
    "\n",
    "plt.savefig('filename.png')\n",
    "plt.tight_layout()"
   ]
  },
  {
   "cell_type": "markdown",
   "id": "46523bca-0492-4c52-98bf-ff0cfc97c64c",
   "metadata": {},
   "source": [
    "#### Vgg11"
   ]
  },
  {
   "cell_type": "markdown",
   "id": "d924cf48-5873-406e-ab78-f41bec1fe1f1",
   "metadata": {},
   "source": [
    "#### Vgg19"
   ]
  },
  {
   "cell_type": "markdown",
   "id": "d31e1f5a-663c-48ca-b1dc-609181912e91",
   "metadata": {},
   "source": [
    "### Late Fusion"
   ]
  },
  {
   "cell_type": "markdown",
   "id": "41293988-1a92-45be-9d53-873a5fb6097d",
   "metadata": {},
   "source": [
    "#### Alexnet"
   ]
  },
  {
   "cell_type": "code",
   "execution_count": null,
   "id": "86e5159e",
   "metadata": {},
   "outputs": [],
   "source": [
    "df = pd.read_csv('filename.csv')\n",
    "# df"
   ]
  },
  {
   "cell_type": "code",
   "execution_count": null,
   "id": "539267ec",
   "metadata": {},
   "outputs": [],
   "source": [
    "fig, axs = plt.subplots(3, 2, figsize=(14, 18))\n",
    "\n",
    "# Loop through each plane (0, 1, 2) and plot both loss and accuracy for each\n",
    "for i, plane in enumerate(range(3)):\n",
    "    plot_metrics(axs[i, 0], 'loss', plane) \n",
    "    plot_metrics(axs[i, 1], 'accuracy', plane) \n",
    "\n",
    "plt.savefig('filename.png')\n",
    "plt.tight_layout()"
   ]
  },
  {
   "cell_type": "markdown",
   "id": "170b3897-6658-4071-8347-9cf882fd5956",
   "metadata": {},
   "source": [
    "#### Vgg11"
   ]
  },
  {
   "cell_type": "markdown",
   "id": "27e1c687-3230-495b-9a3d-cb639dcbe177",
   "metadata": {},
   "source": [
    "#### Vgg19"
   ]
  }
 ],
 "metadata": {
  "kernelspec": {
   "display_name": "pt24",
   "language": "python",
   "name": "python3"
  },
  "language_info": {
   "codemirror_mode": {
    "name": "ipython",
    "version": 3
   },
   "file_extension": ".py",
   "mimetype": "text/x-python",
   "name": "python",
   "nbconvert_exporter": "python",
   "pygments_lexer": "ipython3",
   "version": "3.12.5"
  }
 },
 "nbformat": 4,
 "nbformat_minor": 5
}
