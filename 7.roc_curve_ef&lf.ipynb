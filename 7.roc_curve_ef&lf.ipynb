{
 "cells": [
  {
   "cell_type": "code",
   "execution_count": 1,
   "id": "9db20a92-fd0e-474b-9d89-ba778f95dd47",
   "metadata": {},
   "outputs": [],
   "source": [
    "import numpy as np\n",
    "import pandas as pd\n",
    "import matplotlib.pyplot as plt\n",
    "import seaborn as sns\n",
    "from sklearn.metrics import confusion_matrix, classification_report\n",
    "from ipywidgets import widgets\n",
    "import pickle"
   ]
  },
  {
   "cell_type": "markdown",
   "id": "3afc399d",
   "metadata": {},
   "source": [
    "# Confusion Matrix, Classification Report, and ROC Curve"
   ]
  },
  {
   "cell_type": "code",
   "execution_count": 2,
   "id": "debdf47b",
   "metadata": {},
   "outputs": [],
   "source": [
    "# Load pickle function\n",
    "def load_results(file_path, net, method):\n",
    "    \n",
    "    with open(file_path, 'rb') as file:\n",
    "        data = pickle.load(file)\n",
    "    \n",
    "    globals()[f'predictions_{net}_{method}'] = data['predictions']\n",
    "    globals()[f'labels_{net}_{method}'] = data['labels']\n",
    "    globals()[f'probs_{net}_{method}'] = data['probs']\n",
    "    globals()[f'fpr_{net}_{method}'] = data['fpr']\n",
    "    globals()[f'tpr_{net}_{method}'] = data['tpr']\n",
    "    globals()[f'roc_auc_{net}_{method}'] = data['roc_auc']\n",
    "    #globals()[f'misclassified_test_paths_{net}_{method}'] = data['misclassified_test_paths']\n"
   ]
  },
  {
   "cell_type": "code",
   "execution_count": 3,
   "id": "a84beff3",
   "metadata": {},
   "outputs": [],
   "source": [
    "# Plot interactive confusion matrix\n",
    "def plot_confusion_matrix(probs, labels, threshold_w, cm_filename):\n",
    "    adjusted_predictions = (np.array(probs) >= threshold_w).astype(int)\n",
    "    # Calculate the confusion matrix by comparing true labels with predictions\n",
    "    cm = confusion_matrix(labels, adjusted_predictions)\n",
    "    # Calculate the percentage values for each cell in the confusion matrix\n",
    "    cm_percentages = cm.astype('float') / cm.sum() * 100\n",
    "    \n",
    "    # Create a heatmap for the confusion matrix with percentage annotations\n",
    "    plt.figure(figsize=(6, 6))\n",
    "    sns.heatmap(cm, annot=np.array([[\"{}\\n({:.2f}%)\".format(cm[i, j], cm_percentages[i, j]) \n",
    "                                     for j in range(cm.shape[1])] \n",
    "                                    for i in range(cm.shape[0])]), # Annotate each cell with value and percentage\n",
    "                fmt='', cmap=plt.cm.Blues, \n",
    "                xticklabels=['AtmoNu', 'PDK'], yticklabels=['AtmoNu', 'PDK'],\n",
    "                cbar=False, annot_kws={\"size\": 16})\n",
    "    \n",
    "    plt.xlabel('Predicted labels', fontsize=14)\n",
    "    plt.ylabel('True labels', fontsize=14)\n",
    "    plt.title(f\"{NETWORK.capitalize()} - Confusion Matrix at Threshold = {threshold_w:.2f}\", fontsize=16)\n",
    "    plt.savefig(cm_filename)\n",
    "    plt.show()\n",
    "\n",
    "def interactive_plot_confusion_matrix(probs, labels, cm_filename):\n",
    "    # Create a slider widget to select the threshold value for predictions\n",
    "    threshold_slider = widgets.FloatSlider(value=0.5, min=0.0, max=1.0, step=0.05, description='Threshold:', continuous_update=False)\n",
    "    \n",
    "    # Define the layout of the widget interface with the threshold slider\n",
    "    ui = widgets.HBox([threshold_slider])\n",
    "    # Create an interactive output for the confusion matrix plot function\n",
    "    out = widgets.interactive_output(plot_confusion_matrix, \n",
    "                                     {'probs': widgets.fixed(probs), \n",
    "                                      'labels': widgets.fixed(labels), \n",
    "                                      'threshold_w': threshold_slider, \n",
    "                                      'cm_filename': widgets.fixed(cm_filename)})\n",
    "    \n",
    "    display(ui, out)"
   ]
  },
  {
   "cell_type": "code",
   "execution_count": 4,
   "id": "3979d63a-a06b-4eaf-a8ac-ef8986ec818d",
   "metadata": {},
   "outputs": [],
   "source": [
    "def save_classification_report_as_image(report, filename):\n",
    "    fig, ax = plt.subplots(figsize=(10, 6))\n",
    "    ax.axis('off')\n",
    "    ax.text(0.01, 0.5, str(report), fontsize=12, va='center', ha='left', family='monospace')\n",
    "    plt.savefig(filename, bbox_inches='tight')"
   ]
  },
  {
   "cell_type": "code",
   "execution_count": 5,
   "id": "75450d85",
   "metadata": {},
   "outputs": [],
   "source": [
    "class_names = ['AtmoNu', 'PDK']"
   ]
  },
  {
   "cell_type": "code",
   "execution_count": 6,
   "id": "29aeceff",
   "metadata": {},
   "outputs": [],
   "source": [
    "threshold_w = 0.5"
   ]
  },
  {
   "cell_type": "markdown",
   "id": "340a38bb-bb5e-4f5d-b4b4-b27819da151f",
   "metadata": {},
   "source": [
    "## Late Fusion"
   ]
  },
  {
   "cell_type": "markdown",
   "id": "8d4a58fa-dd5d-4195-9961-e297c81a279d",
   "metadata": {},
   "source": [
    "### Alexnet"
   ]
  },
  {
   "cell_type": "code",
   "execution_count": 7,
   "id": "e8198ad3",
   "metadata": {},
   "outputs": [],
   "source": [
    "NETWORK = 'alexnet'"
   ]
  },
  {
   "cell_type": "code",
   "execution_count": 8,
   "id": "072d715c",
   "metadata": {},
   "outputs": [],
   "source": [
    "# Load pickle\n",
    "load_results(\"pkl/roc_results_alexnet_late_fusion.pkl\", NETWORK, 'lf')"
   ]
  },
  {
   "cell_type": "code",
   "execution_count": null,
   "id": "84ede6ae-db76-46ae-bb1f-e4835da99ff0",
   "metadata": {},
   "outputs": [],
   "source": [
    "# Confusion matrix\n",
    "interactive_plot_confusion_matrix(probs_alexnet_lf, labels_alexnet_lf, f\"{NETWORK.capitalize()}_Late_Fusion_Confusion_Matrix_at_Threshold = {threshold_w:.2f}.png\")"
   ]
  },
  {
   "cell_type": "code",
   "execution_count": null,
   "id": "ca50021b-9ba0-4edb-8d9a-197ac9c6cabc",
   "metadata": {},
   "outputs": [],
   "source": [
    "# Classification report\n",
    "report = classification_report(labels_alexnet_lf, predictions_alexnet_lf, target_names=class_names)\n",
    "print(f\"{NETWORK.capitalize()} - Late Fusion - Classification Report:\\n\")\n",
    "print(report)"
   ]
  },
  {
   "cell_type": "code",
   "execution_count": null,
   "id": "ec195ebc-d805-45e0-9bbd-97401c9a7d77",
   "metadata": {},
   "outputs": [],
   "source": [
    "save_classification_report_as_image(report, F\"{NETWORK.capitalize()}_Late_Fusion_Classification_Report.png\")"
   ]
  },
  {
   "cell_type": "markdown",
   "id": "a1e2c71b-5c9a-4803-946e-23af696fa8a1",
   "metadata": {},
   "source": [
    "### Vgg11"
   ]
  },
  {
   "cell_type": "markdown",
   "id": "dfbc43b5-fe2e-42ba-80e9-090baf450228",
   "metadata": {},
   "source": [
    "### Vgg19"
   ]
  },
  {
   "cell_type": "markdown",
   "id": "0fd1562a-f4cd-43ea-8ee0-068f7ea97bb8",
   "metadata": {},
   "source": [
    "## Early Fusion"
   ]
  },
  {
   "cell_type": "markdown",
   "id": "1346d75e-1146-40fa-bb15-f12170a81f49",
   "metadata": {},
   "source": [
    "### Alexnet"
   ]
  },
  {
   "cell_type": "markdown",
   "id": "1485c713-aec8-4775-b705-6010c44ebc21",
   "metadata": {},
   "source": [
    "### Vgg11"
   ]
  },
  {
   "cell_type": "markdown",
   "id": "c73cc94e-a8b0-4273-b0e8-b6236f2f128f",
   "metadata": {},
   "source": [
    "### Vgg19"
   ]
  },
  {
   "cell_type": "markdown",
   "id": "f55c6991",
   "metadata": {},
   "source": [
    "## ROC Curve - Both Early and Late Fusion"
   ]
  },
  {
   "cell_type": "code",
   "execution_count": null,
   "id": "9576a215",
   "metadata": {},
   "outputs": [],
   "source": [
    "# Plot ROC curves in a subplot\n",
    "fig, axes = plt.subplots(1, 2, figsize=(12, 6))\n",
    "\n",
    "# Early Fusion\n",
    "axes[0].plot(fpr_alexnet_ef, tpr_alexnet_ef, label=f'AlexNet (AUC = {roc_auc_alexnet_ef:.2f})')\n",
    "axes[0].plot(fpr_vgg11_ef, tpr_vgg11_ef, label=f'VGG11 (AUC = {roc_auc_vgg11_ef:.2f})')\n",
    "axes[0].plot(fpr_vgg19_ef, tpr_vgg19_ef, label=f'VGG19 (AUC = {roc_auc_vgg19_ef:.2f})')\n",
    "axes[0].plot([0, 1], [0, 1], color='gray', linestyle='--')\n",
    "axes[0].set_xlim([0.0, 1.0])\n",
    "axes[0].set_ylim([0.0, 1.05])\n",
    "axes[0].set_xlabel('False Positive Rate')\n",
    "axes[0].set_ylabel('True Positive Rate')\n",
    "axes[0].set_title('Early Fusion')\n",
    "axes[0].legend(loc='lower right')\n",
    "\n",
    "# Late Fusion\n",
    "axes[1].plot(fpr_alexnet_lf, tpr_alexnet_lf, label=f'AlexNet (AUC = {roc_auc_alexnet_lf:.2f})')\n",
    "axes[1].plot(fpr_vgg11_lf, tpr_vgg11_lf, label=f'VGG11 (AUC = {roc_auc_vgg11_lf:.2f})')\n",
    "axes[1].plot(fpr_vgg19_lf, tpr_vgg19_lf, label=f'VGG19 (AUC = {roc_auc_vgg19_lf:.2f})')\n",
    "axes[1].plot([0, 1], [0, 1], color='gray', linestyle='--')\n",
    "axes[1].set_xlim([0.0, 1.0])\n",
    "axes[1].set_ylim([0.0, 1.05])\n",
    "axes[1].set_xlabel('False Positive Rate')\n",
    "axes[1].set_ylabel('True Positive Rate')\n",
    "axes[1].set_title('Late Fusion')\n",
    "axes[1].legend(loc='lower right')\n",
    "\n",
    "fig.suptitle('ROC Curve', fontsize=16)\n",
    "\n",
    "plt.tight_layout(rect=[0, 0, 1, 0.95])\n",
    "plt.savefig('ROC_Curve_EF&LF.png')\n",
    "plt.show()"
   ]
  }
 ],
 "metadata": {
  "kernelspec": {
   "display_name": "pt24",
   "language": "python",
   "name": "python3"
  },
  "language_info": {
   "codemirror_mode": {
    "name": "ipython",
    "version": 3
   },
   "file_extension": ".py",
   "mimetype": "text/x-python",
   "name": "python",
   "nbconvert_exporter": "python",
   "pygments_lexer": "ipython3",
   "version": "3.12.5"
  }
 },
 "nbformat": 4,
 "nbformat_minor": 5
}
