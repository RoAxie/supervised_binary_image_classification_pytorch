{
 "cells": [
  {
   "cell_type": "markdown",
   "id": "076d3089-6627-444c-9f21-1097b44ab9f3",
   "metadata": {},
   "source": [
    "# 1) Looking for and 2) Removing empty and small ROIs"
   ]
  },
  {
   "cell_type": "markdown",
   "id": "7e433829-a083-42e0-a582-1e335adb5b84",
   "metadata": {},
   "source": [
    "**FIRST PART**:  \n",
    "The *'ROI_values_count_ALL_FILES'* CSV file is used in this notebook. This file contains the count of values in each ROI (i.e., each file). Additional columns are derived from splitting the filename (class, sim, plane, and event). The filename, which is used as the index, has the *.extracted* extension. The filenames to be removed are determined based on the filtering and grouping of the CSV file.The results are saved as dictionaries in JSON format.\n",
    "    \n",
    "**SECOND PART**:  \n",
    "The JSON files are used to remove unnecessary files.\n",
    "The process relies on a function that accepts a dictionary with keys 'ATMO' and 'PDK', where the items are lists of files to be removed (one per event). An example structure is as follows: **events_to_remove_dict = {'ATMO': ['filename.extracted'], 'PDK': []}**.\n",
    "\n",
    "The dictionary contains one file per event, but all three planes associated with the event are removed and moved to the *REMOVED_npz folder*. Each time the function is called, a new subdirectory can be created within REMOVED_npz by providing a chosen name (*subdir*) to the function. Within this subdirectory, two additional folders are created: ATMO and PDK. There is no further subdivision by plane."
   ]
  },
  {
   "cell_type": "code",
   "execution_count": 1,
   "id": "07b5c97a-c45b-4d4b-8212-6672e53f9ba9",
   "metadata": {},
   "outputs": [],
   "source": [
    "import pandas as pd\n",
    "import matplotlib.pyplot as plt\n",
    "import seaborn as sns\n",
    "import tqdm\n",
    "import os\n",
    "import shutil\n",
    "import json"
   ]
  },
  {
   "cell_type": "markdown",
   "id": "ef318a28-b6bd-452d-a5cc-db30f6778ef5",
   "metadata": {
    "jp-MarkdownHeadingCollapsed": true
   },
   "source": [
    "## First part"
   ]
  },
  {
   "cell_type": "code",
   "execution_count": 2,
   "id": "a73153ae-2873-4523-b168-b9d6f7521867",
   "metadata": {},
   "outputs": [],
   "source": [
    "df = pd.read_csv('ROI_values_count_ALL_FILES.csv')\n",
    "df.set_index('filename', inplace=True)"
   ]
  },
  {
   "cell_type": "markdown",
   "id": "b548dba5-da20-4f75-8038-8d2a54dbb4ea",
   "metadata": {},
   "source": [
    "### Looking for the empty ROIs"
   ]
  },
  {
   "cell_type": "code",
   "execution_count": null,
   "id": "7fa06bcf-5c0a-4f57-b70f-fd848adaeeba",
   "metadata": {},
   "outputs": [],
   "source": [
    "# The code filters and groups the DataFrame to identify files with empty regions of interest (ROI).\n",
    "# It then categorizes these filenames into two groups: AtmoNu and PDK.\n",
    "# Finally, it saves the categorized filenames in a dictionary and writes the dictionary to a JSON file."
   ]
  },
  {
   "cell_type": "code",
   "execution_count": 3,
   "id": "6f69451c-a248-42ff-a5c4-cf6e8a69ea1b",
   "metadata": {},
   "outputs": [
    {
     "name": "stdout",
     "output_type": "stream",
     "text": [
      "16 AtmoNu files are empty\n",
      "6 PDK files are empty\n",
      "empty_roi_filename_dictionary.json saved\n"
     ]
    }
   ],
   "source": [
    "# Filter the DataFrame for rows where 'ROI_values_count' is 0 (i.e., empty ROIs)\n",
    "empty_roi_df = df[df['ROI_values_count'] == 0]\n",
    "#print(empty_roi_df.head())\n",
    "\n",
    "# Group the filtered df by 'atmonu_or_pdk', 'MC_sim', and 'event'\n",
    "# Aggregate by counting the number of 'plane' per group and collecting the index (filenames)\n",
    "empty_roi_gby = (empty_roi_df.groupby(['atmonu_or_pdk', 'MC_sim', 'event']).agg(nr_planes=('plane', 'size'),\n",
    "         filename_list=('plane', lambda x: list(x.index))).reset_index())\n",
    "#print(empty_roi_gby.head())\n",
    "\n",
    "# Flatten the list of filenames from the grouped df\n",
    "empty_roi_filename_list = [file for sublist in empty_roi_gby['filename_list'] for file in sublist]\n",
    "# Filter the filenames that contain 'AtmoNu' and 'PDK'\n",
    "atmonu_files = [file for file in empty_roi_filename_list if 'AtmoNu' in file]\n",
    "pdk_files = [file for file in empty_roi_filename_list if 'PDK' in file]\n",
    "# Create a dictionary with the filenames categorized by 'ATMO' and 'PDK'\n",
    "empty_roi_filename_dict = { 'ATMO' : atmonu_files, 'PDK': pdk_files}\n",
    "#print(empty_roi_filename_dict)\n",
    "\n",
    "# Print the count of empty AtmoNu and PDK files\n",
    "print(f\"{len(empty_roi_filename_dict['ATMO'])} AtmoNu files are empty\")\n",
    "print(f\"{len(empty_roi_filename_dict['PDK'])} PDK files are empty\")\n",
    "\n",
    "# Save the dictionary to a JSON file\n",
    "with open('empty_roi_filename_dictionary.json', 'w') as file:\n",
    "    json.dump(empty_roi_filename_dict, file)\n",
    "print('empty_roi_filename_dictionary.json saved')"
   ]
  },
  {
   "cell_type": "markdown",
   "id": "4f2343f1-b454-4cd9-909a-06dad20b6a88",
   "metadata": {},
   "source": [
    "### Looking for the ROIs with few values"
   ]
  },
  {
   "cell_type": "code",
   "execution_count": null,
   "id": "e1d5c8ab-2f13-444e-832f-b94ac02ddb1a",
   "metadata": {},
   "outputs": [],
   "source": [
    "# Filtering Small ROIs: The code filters the df to only include events where the ROI_values_count is greater than 0 and less than a specified threshold (100).\n",
    "# This excludes empty regions and focuses on small ROIs.\n",
    "# Grouping and Aggregation: The filtered data is grouped by specific columns (atmonu_or_pdk, MC_sim, and event),\n",
    "# and the number of planes (nr_planes) and the list of filenames (filename_list) are aggregated for each group.\n",
    "# Visualization: A bar plot is created to show how many events have 1, 2, or 3 planes with small ROIs.\n",
    "\n",
    "# Dictionary Creation and JSON Export:\n",
    "# Two dictionaries are created:\n",
    "# All planes: Includes all filenames for events with small ROIs.\n",
    "# One plane: Includes only one plane from each event.\n",
    "# These dictionaries are categorized by 'ATMO' and 'PDK', based on whether the filename contains 'AtmoNu' or 'PDK'.\n",
    "# File Output: Both dictionaries are saved to JSON files."
   ]
  },
  {
   "cell_type": "code",
   "execution_count": 4,
   "id": "5e11ea20-fe26-4855-ae54-90ba5f48d5fb",
   "metadata": {},
   "outputs": [],
   "source": [
    "# Set a threshold for small ROIs\n",
    "threshold = 100\n",
    "\n",
    "# Filter the df to include only rows where the 'ROI_values_count' is between 0 and the threshold\n",
    "small_roi_df = df[(df['ROI_values_count'] > 0) & (df['ROI_values_count'] < threshold)] # Empty ROIs are excluded\n",
    "#print(small_roi_df.head())\n",
    "\n",
    "# Group the filtered df by 'atmonu_or_pdk', 'MC_sim', and 'event'\n",
    "# Count the number of planes in each group and collect their filenames (index)\n",
    "small_roi_gby = (small_roi_df.groupby(['atmonu_or_pdk', 'MC_sim', 'event']).agg(nr_planes=('plane', 'size'),\n",
    "         filename_list=('plane', lambda x: list(x.index))).reset_index())\n",
    "#print(small_roi_gby.head())"
   ]
  },
  {
   "cell_type": "code",
   "execution_count": 6,
   "id": "30c33817-13a9-45bf-b5f7-f67421643da9",
   "metadata": {},
   "outputs": [
    {
     "name": "stdout",
     "output_type": "stream",
     "text": [
      "nr_planes\n",
      "1    280\n",
      "2     52\n",
      "3      7\n",
      "Name: count, dtype: int64\n"
     ]
    },
    {
     "data": {
      "image/png": "[encoded data removed]",
      "text/plain": [
       "<Figure size 600x400 with 1 Axes>"
      ]
     },
     "metadata": {},
     "output_type": "display_data"
    }
   ],
   "source": [
    "# Count how many events have 1, 2, or 3 planes with small ROIs (less than the threshold)\n",
    "count = small_roi_gby['nr_planes'].value_counts()\n",
    "print(count)\n",
    "\n",
    "# Plot the distribution of events by the number of planes with small ROIs\n",
    "plt.figure(figsize=(6, 4))\n",
    "sns.barplot(x=count, y=['1', '2', '3'])\n",
    "plt.title(f'Number of events by planes with fewer than {threshold} values (and > 0)')\n",
    "plt.xlabel('Number of events')\n",
    "plt.ylabel(f'Number of planes (with < {threshold} values and > 0)')\n",
    "plt.show()"
   ]
  },
  {
   "cell_type": "code",
   "execution_count": null,
   "id": "77e58f38",
   "metadata": {},
   "outputs": [],
   "source": [
    "# Plot description:\n",
    "# 280 events have only one plane with less than 100 values,\n",
    "# 52 events have two planes with less than 100 values,\n",
    "# 7 events have all three planes with less than 100 values."
   ]
  },
  {
   "cell_type": "code",
   "execution_count": null,
   "id": "c125c3c3-77fd-4146-b29b-790a66c634a3",
   "metadata": {},
   "outputs": [],
   "source": [
    "#print(small_roi_gby[small_roi_gby['nr_planes'] == 3])   # Filters and displays events with all three planes below threshold"
   ]
  },
  {
   "cell_type": "code",
   "execution_count": null,
   "id": "e9090e6a-446e-43ec-a5a5-fed2df51ca50",
   "metadata": {},
   "outputs": [],
   "source": [
    "small_roi_gby['filename_list']\n",
    "\n",
    "# ALL FILES\n",
    "# Dictionary containing all small ROI files (across all planes)\n",
    "small_roi_all_planes_filename_list = [file for sublist in small_roi_gby['filename_list'] for file in sublist]\n",
    "\n",
    "# Separate the files into 'AtmoNu' and 'PDK' based on their names\n",
    "atmonu_files = [file for file in small_roi_all_planes_filename_list if 'AtmoNu' in file]\n",
    "pdk_files = [file for file in small_roi_all_planes_filename_list if 'PDK' in file]\n",
    "\n",
    "# Create a dictionary that categorizes small ROI files by 'ATMO' and 'PDK'\n",
    "small_roi_all_planes_filename_dict = { 'ATMO' : atmonu_files, 'PDK': pdk_files}\n",
    "#print(small_roi_all_planes_filename_dict)\n",
    "\n",
    "# Save the dictionary of small ROI files (all planes) to a JSON file\n",
    "with open('small_roi_all_planes_filename_dictionary.json', 'w') as file:\n",
    "    json.dump(small_roi_all_planes_filename_dict, file)\n",
    "print('small_roi_all_planes_filename_dictionary.json saved')\n",
    "\n",
    "# ONE FILE PER EVENT\n",
    "# Create a dictionary for one small ROI file per event (taking only the first plane)\n",
    "small_roi_one_plane_filename_list = [sublist[0] for sublist in small_roi_gby['filename_list']]\n",
    "\n",
    "# Again, separate the 'AtmoNu' and 'PDK' files\n",
    "atmonu_files = [file for file in small_roi_one_plane_filename_list if 'AtmoNu' in file]\n",
    "pdk_files = [file for file in small_roi_one_plane_filename_list if 'PDK' in file]\n",
    "\n",
    "# Create a dictionary that categorizes these single-plane small ROI files by 'ATMO' and 'PDK'\n",
    "small_roi_one_plane_filename_dict = { 'ATMO' : atmonu_files, 'PDK': pdk_files}\n",
    "#print(small_roi_one_plane_filename_dict)\n",
    "\n",
    "# Save the dictionary of single small ROI files to a JSON file\n",
    "with open('small_roi_one_plane_filename_dictionary.json', 'w') as file:\n",
    "    json.dump(small_roi_one_plane_filename_dict, file)\n",
    "print('small_roi_one_plane_filename_dictionary.json saved')"
   ]
  },
  {
   "cell_type": "markdown",
   "id": "0a200b6e-a7d4-4a53-a7fb-455920e2ca97",
   "metadata": {},
   "source": [
    "## Second part"
   ]
  },
  {
   "cell_type": "markdown",
   "id": "73e3f4df-b21b-4eb3-84a1-82fb478b10ce",
   "metadata": {},
   "source": [
    "### Removing some npz files"
   ]
  },
  {
   "cell_type": "code",
   "execution_count": null,
   "id": "ef596595-0e62-47fd-8850-9efb87ff1efa",
   "metadata": {},
   "outputs": [],
   "source": [
    "# Define the directory where all .npz files are stored\n",
    "npz_dir = 'path/to/npz'\n",
    "\n",
    "# Create lists of directories for each class (0 = ATMO, 1 = PDK) across 3 planes (0, 1, 2)\n",
    "class_0_dirs = [f\"{npz_dir}/{plane}/ATMO\" for plane in range(3)]\n",
    "class_1_dirs = [f\"{npz_dir}/{plane}/PDK\" for plane in range(3)]\n",
    "\n",
    "class_dirs = [class_0_dirs, class_1_dirs]"
   ]
  },
  {
   "cell_type": "code",
   "execution_count": null,
   "id": "8f0916e5-fed2-43ff-9c6f-fd01ac6aaf4e",
   "metadata": {},
   "outputs": [],
   "source": [
    "\"\"\"\n",
    "moving_files function:\n",
    "This function takes a dictionary of filenames and a subdirectory name as input.\n",
    "It loops over the directories for each class (ATMO and PDK), \n",
    "checks for matches between the filenames in the directory and the filenames in the dictionary (stripped of the .npz extension),\n",
    "and moves those files to a new subdirectory under REMOVED_npz.\n",
    "\"\"\"\n",
    "def moving_files(filename_dict, subdir):\n",
    "    # Iterate over each class directory (ATMO and PDK)\n",
    "    for class_dir in class_dirs:\n",
    "        # Extract the class name (either 'ATMO' or 'PDK') from the directory path\n",
    "        atmo_pdk = class_dir[0].strip().split('/')[-1]\n",
    "        # Define the destination directory for the moved files (create it if it doesn't exist)\n",
    "        destination_dir = f'REMOVED_npz/{subdir}/{atmo_pdk}'\n",
    "        os.makedirs(destination_dir, exist_ok=True)\n",
    "        for f0, f1, f2 in tqdm.tqdm(zip(\n",
    "            sorted(os.listdir(class_dir[0])),  # List of files in plane 0\n",
    "            sorted(os.listdir(class_dir[1])),  # List of files in plane 1\n",
    "            sorted(os.listdir(class_dir[2]))   # List of files in plane 2\n",
    "            )):\n",
    "            # Iterate over all files from the dictionary for the current class (ATMO or PDK)\n",
    "            for file in sorted(filename_dict[atmo_pdk]):\n",
    "                # file is .extracted; f0, f1, f2 are .extracted.npz\n",
    "                if (file == f0.rstrip('.npz')) or (file == f1.rstrip('.npz')) or (file == f2.rstrip('.npz')):\n",
    "                    # Construct the source paths for files from all three planes\n",
    "                    f0_path = f'{class_dir[0]}/{f0}'\n",
    "                    f1_path = f'{class_dir[1]}/{f1}'\n",
    "                    f2_path = f'{class_dir[2]}/{f2}'\n",
    "                    # Construct the destination paths for the files\n",
    "                    destination_path0 = f\"{destination_dir}/{f0}\"         \n",
    "                    destination_path1 = f\"{destination_dir}/{f1}\"\n",
    "                    destination_path2 = f\"{destination_dir}/{f2}\"\n",
    "                    # Move the files from the source directories to the destination directories\n",
    "                    shutil.move(f0_path, destination_path0)\n",
    "                    shutil.move(f1_path, destination_path1)\n",
    "                    shutil.move(f2_path, destination_path2)\n",
    "                    filename_dict[atmo_pdk].remove(file)\n",
    "                            \n",
    "        print(f'Files moved to REMOVED_npz/{subdir}/{atmo_pdk}')"
   ]
  },
  {
   "cell_type": "code",
   "execution_count": null,
   "id": "6dd86d5a-da60-4b89-a2d0-a5fcefc27136",
   "metadata": {},
   "outputs": [],
   "source": [
    "# Moving the empty ROI files\n",
    "\n",
    "# Load the dictionary containing the list of empty ROI files\n",
    "with open('empty_roi_filename_dictionary.json', 'r') as file:\n",
    "    empty_roi_filename_dict = json.load(file)\n",
    "    \n",
    "# Call the function to move the empty files to a designated subdirectory. Subdir is the name of the new folder in REMOVED_npz\n",
    "moving_files(filename_dict = empty_roi_filename_dict, subdir = 'empty')"
   ]
  },
  {
   "cell_type": "code",
   "execution_count": null,
   "id": "47830808-6d4e-4f98-845a-2ab163429e89",
   "metadata": {},
   "outputs": [],
   "source": [
    "# Moving the small ROI files\n",
    "\n",
    "# Load the dictionary containing the list of small ROI files (one per event)\n",
    "with open('small_roi_one_plane_filename_dictionary.json', 'r') as file:\n",
    "    small_roi_one_plane_filename_dict = json.load(file)\n",
    "\n",
    "# Call the function to move the small files to a designated subdirectory. Subdir is the name of the new folder in REMOVED_npz\n",
    "moving_files(filename_dict = small_roi_one_plane_filename_dict, subdir = 'small')"
   ]
  }
 ],
 "metadata": {
  "kernelspec": {
   "display_name": "pt24",
   "language": "python",
   "name": "python3"
  },
  "language_info": {
   "codemirror_mode": {
    "name": "ipython",
    "version": 3
   },
   "file_extension": ".py",
   "mimetype": "text/x-python",
   "name": "python",
   "nbconvert_exporter": "python",
   "pygments_lexer": "ipython3",
   "version": "3.12.5"
  }
 },
 "nbformat": 4,
 "nbformat_minor": 5
}
